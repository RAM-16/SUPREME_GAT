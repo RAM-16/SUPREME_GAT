{
 "cells": [
  {
   "cell_type": "code",
   "execution_count": 13,
   "metadata": {},
   "outputs": [],
   "source": [
    "import pandas as pd\n",
    "import numpy as np\n",
    "import pickle"
   ]
  },
  {
   "cell_type": "code",
   "execution_count": 37,
   "metadata": {},
   "outputs": [],
   "source": [
    "gene_networks = pd.read_csv('edges11_gene.csv')\n",
    "gene_mat = pd.read_csv('C:/Users/ramka/Documents/gene_matrix.csv')\n",
    "meth_df = pd.read_csv('C:/Users/ramka/Documents/methylation_matrix.csv')\n",
    "meth_networks = pd.read_csv('edges11_meth.csv')"
   ]
  },
  {
   "cell_type": "code",
   "execution_count": null,
   "metadata": {},
   "outputs": [],
   "source": []
  },
  {
   "cell_type": "code",
   "execution_count": 38,
   "metadata": {},
   "outputs": [],
   "source": [
    "meth_value_to_index = {value: idx for idx, value in meth_df['Unnamed: 0'].items()}\n",
    "gene_value_to_index = {value: idx for idx, value in gene_mat['Unnamed: 0'].items()}"
   ]
  },
  {
   "cell_type": "code",
   "execution_count": 39,
   "metadata": {},
   "outputs": [],
   "source": [
    "meth_networks['Feature1'] = meth_networks['Feature1'].map(meth_value_to_index)\n",
    "meth_networks['Feature2'] = meth_networks['Feature2'].map(meth_value_to_index)\n",
    "meth_networks = meth_networks.drop('Unnamed: 0', axis= 1)\n",
    "meth_networks.to_pickle('edges11_meth.pkl')\n",
    "gene_networks['Feature1'] = gene_networks['Feature1'].map(gene_value_to_index)\n",
    "gene_networks['Feature2'] = gene_networks['Feature2'].map(gene_value_to_index)\n",
    "gene_networks = gene_networks.drop('Unnamed: 0', axis= 1)\n",
    "gene_networks.to_pickle('edges11_gene.pkl')"
   ]
  },
  {
   "cell_type": "code",
   "execution_count": 44,
   "metadata": {},
   "outputs": [],
   "source": [
    "with open(\"C:/Users/ramka/Supreme_updated_ver/edges11_gene.pkl\", 'rb') as f:\n",
    "        feat = pickle.load(f)"
   ]
  },
  {
   "cell_type": "code",
   "execution_count": 45,
   "metadata": {},
   "outputs": [
    {
     "data": {
      "text/html": [
       "<div>\n",
       "<style scoped>\n",
       "    .dataframe tbody tr th:only-of-type {\n",
       "        vertical-align: middle;\n",
       "    }\n",
       "\n",
       "    .dataframe tbody tr th {\n",
       "        vertical-align: top;\n",
       "    }\n",
       "\n",
       "    .dataframe thead th {\n",
       "        text-align: right;\n",
       "    }\n",
       "</style>\n",
       "<table border=\"1\" class=\"dataframe\">\n",
       "  <thead>\n",
       "    <tr style=\"text-align: right;\">\n",
       "      <th></th>\n",
       "      <th>Feature1</th>\n",
       "      <th>Feature2</th>\n",
       "      <th>Correlation</th>\n",
       "    </tr>\n",
       "  </thead>\n",
       "  <tbody>\n",
       "    <tr>\n",
       "      <th>0</th>\n",
       "      <td>0</td>\n",
       "      <td>0</td>\n",
       "      <td>1.000000</td>\n",
       "    </tr>\n",
       "    <tr>\n",
       "      <th>1</th>\n",
       "      <td>0</td>\n",
       "      <td>176</td>\n",
       "      <td>0.933697</td>\n",
       "    </tr>\n",
       "    <tr>\n",
       "      <th>2</th>\n",
       "      <td>0</td>\n",
       "      <td>295</td>\n",
       "      <td>0.930147</td>\n",
       "    </tr>\n",
       "    <tr>\n",
       "      <th>3</th>\n",
       "      <td>0</td>\n",
       "      <td>175</td>\n",
       "      <td>0.928622</td>\n",
       "    </tr>\n",
       "    <tr>\n",
       "      <th>4</th>\n",
       "      <td>0</td>\n",
       "      <td>307</td>\n",
       "      <td>0.926512</td>\n",
       "    </tr>\n",
       "    <tr>\n",
       "      <th>5</th>\n",
       "      <td>0</td>\n",
       "      <td>178</td>\n",
       "      <td>0.925890</td>\n",
       "    </tr>\n",
       "    <tr>\n",
       "      <th>6</th>\n",
       "      <td>0</td>\n",
       "      <td>236</td>\n",
       "      <td>0.925622</td>\n",
       "    </tr>\n",
       "    <tr>\n",
       "      <th>7</th>\n",
       "      <td>0</td>\n",
       "      <td>317</td>\n",
       "      <td>0.925618</td>\n",
       "    </tr>\n",
       "    <tr>\n",
       "      <th>8</th>\n",
       "      <td>0</td>\n",
       "      <td>235</td>\n",
       "      <td>0.924684</td>\n",
       "    </tr>\n",
       "    <tr>\n",
       "      <th>9</th>\n",
       "      <td>0</td>\n",
       "      <td>193</td>\n",
       "      <td>0.924253</td>\n",
       "    </tr>\n",
       "    <tr>\n",
       "      <th>10</th>\n",
       "      <td>0</td>\n",
       "      <td>192</td>\n",
       "      <td>0.923739</td>\n",
       "    </tr>\n",
       "    <tr>\n",
       "      <th>11</th>\n",
       "      <td>1</td>\n",
       "      <td>1</td>\n",
       "      <td>1.000000</td>\n",
       "    </tr>\n",
       "  </tbody>\n",
       "</table>\n",
       "</div>"
      ],
      "text/plain": [
       "    Feature1  Feature2  Correlation\n",
       "0          0         0     1.000000\n",
       "1          0       176     0.933697\n",
       "2          0       295     0.930147\n",
       "3          0       175     0.928622\n",
       "4          0       307     0.926512\n",
       "5          0       178     0.925890\n",
       "6          0       236     0.925622\n",
       "7          0       317     0.925618\n",
       "8          0       235     0.924684\n",
       "9          0       193     0.924253\n",
       "10         0       192     0.923739\n",
       "11         1         1     1.000000"
      ]
     },
     "execution_count": 45,
     "metadata": {},
     "output_type": "execute_result"
    }
   ],
   "source": [
    "feat.head(12)"
   ]
  }
 ],
 "metadata": {
  "kernelspec": {
   "display_name": "supreme2",
   "language": "python",
   "name": "python3"
  },
  "language_info": {
   "codemirror_mode": {
    "name": "ipython",
    "version": 3
   },
   "file_extension": ".py",
   "mimetype": "text/x-python",
   "name": "python",
   "nbconvert_exporter": "python",
   "pygments_lexer": "ipython3",
   "version": "3.9.20"
  }
 },
 "nbformat": 4,
 "nbformat_minor": 2
}
